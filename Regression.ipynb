{
  "nbformat": 4,
  "nbformat_minor": 0,
  "metadata": {
    "colab": {
      "name": "Regression.ipynb",
      "provenance": [],
      "collapsed_sections": []
    },
    "kernelspec": {
      "name": "python3",
      "display_name": "Python 3"
    }
  },
  "cells": [
    {
      "cell_type": "code",
      "metadata": {
        "id": "6-IYcl6UQ0C7",
        "colab_type": "code",
        "outputId": "1d7ab55f-a4d2-41a9-ff6e-cace6b026290",
        "colab": {
          "base_uri": "https://localhost:8080/",
          "height": 124
        }
      },
      "source": [
        "from google.colab import drive\n",
        "drive.mount('/content/drive')"
      ],
      "execution_count": 1,
      "outputs": [
        {
          "output_type": "stream",
          "text": [
            "Go to this URL in a browser: https://accounts.google.com/o/oauth2/auth?client_id=947318989803-6bn6qk8qdgf4n4g3pfee6491hc0brc4i.apps.googleusercontent.com&redirect_uri=urn%3aietf%3awg%3aoauth%3a2.0%3aoob&response_type=code&scope=email%20https%3a%2f%2fwww.googleapis.com%2fauth%2fdocs.test%20https%3a%2f%2fwww.googleapis.com%2fauth%2fdrive%20https%3a%2f%2fwww.googleapis.com%2fauth%2fdrive.photos.readonly%20https%3a%2f%2fwww.googleapis.com%2fauth%2fpeopleapi.readonly\n",
            "\n",
            "Enter your authorization code:\n",
            "··········\n",
            "Mounted at /content/drive\n"
          ],
          "name": "stdout"
        }
      ]
    },
    {
      "cell_type": "code",
      "metadata": {
        "id": "XEjjTkI5RGrS",
        "colab_type": "code",
        "colab": {}
      },
      "source": [
        "import numpy as np\n",
        "import matplotlib.pyplot as plt\n",
        "import pandas as pd\n",
        "from sklearn.linear_model import LinearRegression\n",
        "from sklearn.metrics import accuracy_score\n",
        "from sklearn.preprocessing import LabelEncoder\n",
        "from sklearn.preprocessing import OneHotEncoder\n",
        "from sklearn.compose import ColumnTransformer\n",
        "from sklearn.preprocessing import StandardScaler\n",
        "from sklearn.metrics import mean_squared_error\n",
        "from math import sqrt\n",
        "from sklearn.ensemble import RandomForestRegressor"
      ],
      "execution_count": 0,
      "outputs": []
    },
    {
      "cell_type": "code",
      "metadata": {
        "id": "NDZtgs4gSzk1",
        "colab_type": "code",
        "colab": {}
      },
      "source": [
        "dataset = pd.read_csv('/content/drive/My Drive/Salary_Data.csv')\n",
        "X = dataset.iloc[:, :-1].values\n",
        "y = dataset.iloc[:, 1].values"
      ],
      "execution_count": 0,
      "outputs": []
    },
    {
      "cell_type": "code",
      "metadata": {
        "id": "I5gPrRUmS-YD",
        "colab_type": "code",
        "colab": {}
      },
      "source": [
        "# Splitting the dataset into the Training set and Test set\n",
        "from sklearn.model_selection import train_test_split\n",
        "X_train, X_test, y_train, y_test = train_test_split(X, y, test_size = 1/3, random_state = 0)\n"
      ],
      "execution_count": 0,
      "outputs": []
    },
    {
      "cell_type": "code",
      "metadata": {
        "id": "b779pF8UgfpH",
        "colab_type": "code",
        "outputId": "211f38ad-73bf-4434-9cfb-015573a2ab89",
        "colab": {
          "base_uri": "https://localhost:8080/",
          "height": 34
        }
      },
      "source": [
        "regressor=LinearRegression()\n",
        "regressor.fit(X_train,y_train)\n"
      ],
      "execution_count": 0,
      "outputs": [
        {
          "output_type": "execute_result",
          "data": {
            "text/plain": [
              "LinearRegression(copy_X=True, fit_intercept=True, n_jobs=None, normalize=False)"
            ]
          },
          "metadata": {
            "tags": []
          },
          "execution_count": 10
        }
      ]
    },
    {
      "cell_type": "code",
      "metadata": {
        "id": "YUWdAdDmg7kd",
        "colab_type": "code",
        "colab": {}
      },
      "source": [
        "y_pred=regressor.predict(X_test)"
      ],
      "execution_count": 0,
      "outputs": []
    },
    {
      "cell_type": "code",
      "metadata": {
        "id": "ThjZFcsii-rP",
        "colab_type": "code",
        "colab": {}
      },
      "source": [
        "#visualizing\n",
        "plt.scatter(X_train,y_train,color='red')\n",
        "plt.plot(X_train,regressor.predict(X_train),color='blue')\n",
        "plt.title('training set')\n",
        "plt.xlabel('years')\n",
        "plt.ylabel('salary')\n",
        "plt.show()"
      ],
      "execution_count": 0,
      "outputs": []
    },
    {
      "cell_type": "markdown",
      "metadata": {
        "id": "dhkEHbC9knIa",
        "colab_type": "text"
      },
      "source": [
        "**Multiple Linear Regression**"
      ]
    },
    {
      "cell_type": "code",
      "metadata": {
        "id": "jeCn6GFTkri3",
        "colab_type": "code",
        "colab": {}
      },
      "source": [
        "df_m=pd.read_csv('/content/sample_data/50_Startups.csv')\n",
        "X = df_m.iloc[:,:-1].values\n",
        "y = df_m.iloc[:, 4].values"
      ],
      "execution_count": 0,
      "outputs": []
    },
    {
      "cell_type": "code",
      "metadata": {
        "id": "Y1OqvxQ6ytLp",
        "colab_type": "code",
        "colab": {}
      },
      "source": [
        "labelencoder_X = LabelEncoder()\n",
        "X[:, 3] = labelencoder_X.fit_transform(X[:, 3])\n"
      ],
      "execution_count": 0,
      "outputs": []
    },
    {
      "cell_type": "code",
      "metadata": {
        "id": "KHkIbTq12K_C",
        "colab_type": "code",
        "colab": {}
      },
      "source": [
        "columnTransformer = ColumnTransformer([('encoder', OneHotEncoder(), [3])],     remainder='passthrough')\n",
        "X=np.array(columnTransformer.fit_transform(X),dtype=np.str)"
      ],
      "execution_count": 0,
      "outputs": []
    },
    {
      "cell_type": "code",
      "metadata": {
        "id": "YbqDwa-c2jTF",
        "colab_type": "code",
        "colab": {}
      },
      "source": [
        "X=X[:,1:] #avoid dummy trap\n"
      ],
      "execution_count": 0,
      "outputs": []
    },
    {
      "cell_type": "code",
      "metadata": {
        "id": "L9ctqodn52nr",
        "colab_type": "code",
        "colab": {}
      },
      "source": [
        "X = X.astype(np.float)"
      ],
      "execution_count": 0,
      "outputs": []
    },
    {
      "cell_type": "code",
      "metadata": {
        "id": "x_ezxtZr3zSP",
        "colab_type": "code",
        "colab": {}
      },
      "source": [
        "# Splitting the dataset into the Training set and Test set\n",
        "from sklearn.model_selection import train_test_split\n",
        "X_train, X_test, y_train, y_test = train_test_split(X, y, test_size = 0.2, random_state = 0)"
      ],
      "execution_count": 0,
      "outputs": []
    },
    {
      "cell_type": "code",
      "metadata": {
        "id": "VM3tjXGs4Dry",
        "colab_type": "code",
        "outputId": "b5e05fa2-d914-4060-924a-642982d7c21b",
        "colab": {
          "base_uri": "https://localhost:8080/",
          "height": 34
        }
      },
      "source": [
        "regressor= LinearRegression()\n",
        "regressor.fit(X_train,y_train)"
      ],
      "execution_count": 0,
      "outputs": [
        {
          "output_type": "execute_result",
          "data": {
            "text/plain": [
              "LinearRegression(copy_X=True, fit_intercept=True, n_jobs=None, normalize=False)"
            ]
          },
          "metadata": {
            "tags": []
          },
          "execution_count": 114
        }
      ]
    },
    {
      "cell_type": "code",
      "metadata": {
        "id": "WaVeXuTa4v4N",
        "colab_type": "code",
        "outputId": "ea49ef7a-8eba-443d-866a-dfea349c2d10",
        "colab": {
          "base_uri": "https://localhost:8080/",
          "height": 69
        }
      },
      "source": [
        "#Predicting Test set\n",
        "y_pred=regressor.predict(X_test)\n",
        "y_pred"
      ],
      "execution_count": 0,
      "outputs": [
        {
          "output_type": "execute_result",
          "data": {
            "text/plain": [
              "array([103015.20159796, 132582.27760816, 132447.73845175,  71976.09851259,\n",
              "       178537.48221054, 116161.24230163,  67851.69209676,  98791.73374688,\n",
              "       113969.43533012, 167921.0656955 ])"
            ]
          },
          "metadata": {
            "tags": []
          },
          "execution_count": 115
        }
      ]
    },
    {
      "cell_type": "code",
      "metadata": {
        "id": "_opmJwGQBmfn",
        "colab_type": "code",
        "outputId": "9f901dd0-b522-4058-d9f5-eb47f7d92d2b",
        "colab": {
          "base_uri": "https://localhost:8080/",
          "height": 34
        }
      },
      "source": [
        "mse=round((mean_squared_error(y_test,y_pred))/100, 2)\n",
        "rmse = round((sqrt(mse))/100 ,2)\n",
        "mse ,rmse"
      ],
      "execution_count": 0,
      "outputs": [
        {
          "output_type": "execute_result",
          "data": {
            "text/plain": [
              "(835028.64, 9.14)"
            ]
          },
          "metadata": {
            "tags": []
          },
          "execution_count": 116
        }
      ]
    },
    {
      "cell_type": "code",
      "metadata": {
        "id": "xW2f1AWL5n4Q",
        "colab_type": "code",
        "colab": {}
      },
      "source": [
        "# optimal model by backward elimination\n",
        "import statsmodels.api as sm\n",
        "X=np.append(arr=np.ones((50,1)).astype(int),values=X,axis=1)"
      ],
      "execution_count": 0,
      "outputs": []
    },
    {
      "cell_type": "code",
      "metadata": {
        "id": "3-3aY0p-9H7r",
        "colab_type": "code",
        "colab": {}
      },
      "source": [
        "X_opt=X[:,[0,1,2,3,4,5]]\n",
        "regressor_OLS=sm.OLS(endog=y,exog=X_opt).fit()\n",
        "regressor_OLS.summary()"
      ],
      "execution_count": 0,
      "outputs": []
    },
    {
      "cell_type": "code",
      "metadata": {
        "id": "Df6qxbsf_9Xi",
        "colab_type": "code",
        "colab": {}
      },
      "source": [
        "X_opt=X[:,[0,1,3,4,5]]\n",
        "regressor_OLS=sm.OLS(endog=y,exog=X_opt).fit()\n",
        "regressor_OLS.summary()"
      ],
      "execution_count": 0,
      "outputs": []
    },
    {
      "cell_type": "code",
      "metadata": {
        "id": "qAi4WAYAAoTL",
        "colab_type": "code",
        "colab": {}
      },
      "source": [
        "X_opt=X[:,[0,3,4,5]]\n",
        "regressor_OLS=sm.OLS(endog=y,exog=X_opt).fit()\n",
        "regressor_OLS.summary()"
      ],
      "execution_count": 0,
      "outputs": []
    },
    {
      "cell_type": "code",
      "metadata": {
        "id": "NpGeyj_YAusP",
        "colab_type": "code",
        "colab": {}
      },
      "source": [
        "X_opt=X[:,[0,3,5]]\n",
        "regressor_OLS=sm.OLS(endog=y,exog=X_opt).fit()\n",
        "regressor_OLS.summary()"
      ],
      "execution_count": 0,
      "outputs": []
    },
    {
      "cell_type": "markdown",
      "metadata": {
        "id": "UnaCCrh2DFsg",
        "colab_type": "text"
      },
      "source": [
        "**POLYNOMIAL REGRESSION**"
      ]
    },
    {
      "cell_type": "code",
      "metadata": {
        "id": "Kn_89NOQDQwJ",
        "colab_type": "code",
        "colab": {}
      },
      "source": [
        "poly_df=pd.read_csv('/content/Position_Salaries.csv')\n",
        "X = poly_df.iloc[:,1:2].values   # make x always as matrix by colon\n",
        "y = poly_df.iloc[:,2].values"
      ],
      "execution_count": 0,
      "outputs": []
    },
    {
      "cell_type": "code",
      "metadata": {
        "id": "GcEuPHZXqnzh",
        "colab_type": "code",
        "colab": {}
      },
      "source": [
        "from sklearn.preprocessing import PolynomialFeatures\n",
        "poly_reg=PolynomialFeatures(degree=4)\n",
        "X_poly=poly_reg.fit_transform(X)"
      ],
      "execution_count": 0,
      "outputs": []
    },
    {
      "cell_type": "code",
      "metadata": {
        "id": "qE0rdaMVrOF-",
        "colab_type": "code",
        "colab": {
          "base_uri": "https://localhost:8080/",
          "height": 34
        },
        "outputId": "f4548530-9857-473e-beca-2c0aafd6aa4b"
      },
      "source": [
        "lin_reg=LinearRegression()\n",
        "lin_reg.fit(X_poly,y)"
      ],
      "execution_count": 14,
      "outputs": [
        {
          "output_type": "execute_result",
          "data": {
            "text/plain": [
              "LinearRegression(copy_X=True, fit_intercept=True, n_jobs=None, normalize=False)"
            ]
          },
          "metadata": {
            "tags": []
          },
          "execution_count": 14
        }
      ]
    },
    {
      "cell_type": "code",
      "metadata": {
        "id": "fNekQmhYtH2d",
        "colab_type": "code",
        "colab": {}
      },
      "source": [
        "X_grid=np.arange(min(X),max(X),0.1)\n",
        "X_grid=X_grid.reshape(len(X_grid),1)\n",
        "plt.scatter(X,y,color='red')\n",
        "plt.plot(X_grid,lin_reg.predict(poly_reg.fit_transform(X_grid)),color='blue')\n",
        "plt.title('polynomial')\n",
        "plt.show()"
      ],
      "execution_count": 0,
      "outputs": []
    },
    {
      "cell_type": "markdown",
      "metadata": {
        "id": "fqniNNhNvnZs",
        "colab_type": "text"
      },
      "source": [
        "**SUPPORT VECTOR REGRESSION**"
      ]
    },
    {
      "cell_type": "code",
      "metadata": {
        "id": "CGh0yzLNzu7d",
        "colab_type": "code",
        "colab": {}
      },
      "source": [
        "y=y.reshape(-1,1)"
      ],
      "execution_count": 0,
      "outputs": []
    },
    {
      "cell_type": "code",
      "metadata": {
        "id": "vud2BOP4yp2j",
        "colab_type": "code",
        "colab": {}
      },
      "source": [
        "# because other algos contain in built and svr dsnt\n",
        "sc_X=StandardScaler()\n",
        "X=sc_X.fit_transform(X)\n",
        "sc_y=StandardScaler()\n",
        "y=sc_y.fit_transform(y)"
      ],
      "execution_count": 0,
      "outputs": []
    },
    {
      "cell_type": "code",
      "metadata": {
        "id": "8xoJvrE_vsNR",
        "colab_type": "code",
        "colab": {
          "base_uri": "https://localhost:8080/",
          "height": 106
        },
        "outputId": "9c2192ae-353e-438e-8075-70a116b63aad"
      },
      "source": [
        "from sklearn.svm import SVR\n",
        "regressor=SVR(kernel='rbf')\n",
        "regressor.fit(X,y)"
      ],
      "execution_count": 30,
      "outputs": [
        {
          "output_type": "stream",
          "text": [
            "/usr/local/lib/python3.6/dist-packages/sklearn/utils/validation.py:760: DataConversionWarning: A column-vector y was passed when a 1d array was expected. Please change the shape of y to (n_samples, ), for example using ravel().\n",
            "  y = column_or_1d(y, warn=True)\n"
          ],
          "name": "stderr"
        },
        {
          "output_type": "execute_result",
          "data": {
            "text/plain": [
              "SVR(C=1.0, cache_size=200, coef0=0.0, degree=3, epsilon=0.1, gamma='scale',\n",
              "    kernel='rbf', max_iter=-1, shrinking=True, tol=0.001, verbose=False)"
            ]
          },
          "metadata": {
            "tags": []
          },
          "execution_count": 30
        }
      ]
    },
    {
      "cell_type": "code",
      "metadata": {
        "id": "R1Xrax0w0mMT",
        "colab_type": "code",
        "colab": {
          "base_uri": "https://localhost:8080/",
          "height": 34
        },
        "outputId": "9279e5e8-3dbc-46aa-e4bf-cc5c64c7b11c"
      },
      "source": [
        "y_pred=sc_y.inverse_transform(regressor.predict(sc_X.transform(np.array([[6.5]]))))\n",
        "y_pred"
      ],
      "execution_count": 35,
      "outputs": [
        {
          "output_type": "execute_result",
          "data": {
            "text/plain": [
              "array([252789.13921624])"
            ]
          },
          "metadata": {
            "tags": []
          },
          "execution_count": 35
        }
      ]
    },
    {
      "cell_type": "code",
      "metadata": {
        "id": "oh51Aiebx_mh",
        "colab_type": "code",
        "colab": {}
      },
      "source": [
        "X_grid=np.arange(min(X),max(X),0.1)\n",
        "X_grid=X_grid.reshape(len(X_grid),1)\n",
        "plt.scatter(X,y,color='red')\n",
        "plt.plot(X_grid,regressor.predict(X_grid),color='blue')\n",
        "plt.title('SVR')\n",
        "plt.show()"
      ],
      "execution_count": 0,
      "outputs": []
    },
    {
      "cell_type": "markdown",
      "metadata": {
        "id": "1PmL7TiQ1fTu",
        "colab_type": "text"
      },
      "source": [
        "**DECISION TREEEE**"
      ]
    },
    {
      "cell_type": "code",
      "metadata": {
        "id": "kF3UBAj-1kGc",
        "colab_type": "code",
        "colab": {
          "base_uri": "https://localhost:8080/",
          "height": 121
        },
        "outputId": "3f94891f-6bcb-406b-9e04-a32a3ebe5bdc"
      },
      "source": [
        "from sklearn.tree import DecisionTreeRegressor\n",
        "regressor=DecisionTreeRegressor(random_state=0)\n",
        "regressor.fit(X,y)\n"
      ],
      "execution_count": 41,
      "outputs": [
        {
          "output_type": "execute_result",
          "data": {
            "text/plain": [
              "DecisionTreeRegressor(ccp_alpha=0.0, criterion='mse', max_depth=None,\n",
              "                      max_features=None, max_leaf_nodes=None,\n",
              "                      min_impurity_decrease=0.0, min_impurity_split=None,\n",
              "                      min_samples_leaf=1, min_samples_split=2,\n",
              "                      min_weight_fraction_leaf=0.0, presort='deprecated',\n",
              "                      random_state=0, splitter='best')"
            ]
          },
          "metadata": {
            "tags": []
          },
          "execution_count": 41
        }
      ]
    },
    {
      "cell_type": "code",
      "metadata": {
        "id": "-lSypgvx7dRr",
        "colab_type": "code",
        "colab": {}
      },
      "source": [
        "X_grid=np.arange(min(X),max(X),0.1)\n",
        "X_grid=X_grid.reshape(len(X_grid),1)\n",
        "plt.scatter(X,y,color='red')\n",
        "plt.plot(X_grid,regressor.predict(X_grid),color='blue')\n",
        "plt.title('DR')\n",
        "plt.show()"
      ],
      "execution_count": 0,
      "outputs": []
    },
    {
      "cell_type": "markdown",
      "metadata": {
        "id": "mh2JYFiO-vXR",
        "colab_type": "text"
      },
      "source": [
        "**RANDOM FOREST REGRESSOR**"
      ]
    },
    {
      "cell_type": "code",
      "metadata": {
        "id": "-sW-M2Y--yxT",
        "colab_type": "code",
        "colab": {}
      },
      "source": [
        "rm_df=pd.read_csv('/content/Position_Salaries.csv')\n",
        "X = rm_df.iloc[:,1:2].values   # make x always as matrix by colon\n",
        "y = rm_df.iloc[:,2].values"
      ],
      "execution_count": 0,
      "outputs": []
    },
    {
      "cell_type": "code",
      "metadata": {
        "id": "iDUBiJiUBkUv",
        "colab_type": "code",
        "colab": {
          "base_uri": "https://localhost:8080/",
          "height": 139
        },
        "outputId": "8f15c0c9-32e5-42ee-f5f6-24e6da75257a"
      },
      "source": [
        "regressor=RandomForestRegressor(n_estimators=300,random_state=0) # 300 is better\n",
        "regressor.fit(X,y)"
      ],
      "execution_count": 55,
      "outputs": [
        {
          "output_type": "execute_result",
          "data": {
            "text/plain": [
              "RandomForestRegressor(bootstrap=True, ccp_alpha=0.0, criterion='mse',\n",
              "                      max_depth=None, max_features='auto', max_leaf_nodes=None,\n",
              "                      max_samples=None, min_impurity_decrease=0.0,\n",
              "                      min_impurity_split=None, min_samples_leaf=1,\n",
              "                      min_samples_split=2, min_weight_fraction_leaf=0.0,\n",
              "                      n_estimators=300, n_jobs=None, oob_score=False,\n",
              "                      random_state=0, verbose=0, warm_start=False)"
            ]
          },
          "metadata": {
            "tags": []
          },
          "execution_count": 55
        }
      ]
    },
    {
      "cell_type": "code",
      "metadata": {
        "id": "cvjOVo6OBdle",
        "colab_type": "code",
        "colab": {
          "base_uri": "https://localhost:8080/",
          "height": 281
        },
        "outputId": "3f0d5a45-ef29-445a-9a26-f167c31d0c3d"
      },
      "source": [
        "X_grid=np.arange(min(X),max(X),0.01)\n",
        "X_grid=X_grid.reshape(len(X_grid),1)\n",
        "plt.scatter(X,y,color='red')\n",
        "plt.plot(X_grid,regressor.predict(X_grid),color='blue')\n",
        "plt.title('Random forest')\n",
        "plt.show()"
      ],
      "execution_count": 56,
      "outputs": [
        {
          "output_type": "display_data",
          "data": {
            "image/png": "[encoded data removed]",
            "text/plain": [
              "<Figure size 432x288 with 1 Axes>"
            ]
          },
          "metadata": {
            "tags": []
          }
        }
      ]
    },
    {
      "cell_type": "markdown",
      "metadata": {
        "id": "PP_I4HG6Dxah",
        "colab_type": "text"
      },
      "source": [
        "#plot diff plots in one fig\n",
        "\n",
        "fig, axs = plt.subplots(2, 2)\n",
        "axs[0, 0].plot(x, y)\n",
        "axs[0, 0].set_title('Axis [0, 0]')\n",
        "axs[0, 1].plot(x, y, 'tab:orange')\n",
        "axs[0, 1].set_title('Axis [0, 1]')\n",
        "axs[1, 0].plot(x, -y, 'tab:green')\n",
        "axs[1, 0].set_title('Axis [1, 0]')\n",
        "axs[1, 1].plot(x, -y, 'tab:red')\n",
        "axs[1, 1].set_title('Axis [1, 1]')\n",
        "\n",
        "for ax in axs.flat:\n",
        "    ax.set(xlabel='x-label', ylabel='y-label')\n",
        "\n",
        "# Hide x labels and tick labels for top plots and y ticks for right plots.\n",
        "for ax in axs.flat:\n",
        "    ax.label_outer()\n",
        "\n",
        "#there should be more adjusted r2 for better\n"
      ]
    }
  ]
}